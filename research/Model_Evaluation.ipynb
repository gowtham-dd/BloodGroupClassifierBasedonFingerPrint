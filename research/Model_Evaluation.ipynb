{
 "cells": [
  {
   "cell_type": "code",
   "execution_count": 1,
   "metadata": {},
   "outputs": [
    {
     "data": {
      "text/plain": [
       "'d:\\\\Data Science\\\\END to END Proj\\\\BloodGroupClassifierBasedonFingerPrint'"
      ]
     },
     "execution_count": 1,
     "metadata": {},
     "output_type": "execute_result"
    }
   ],
   "source": [
    "import os\n",
    "%pwd\n",
    "os.chdir(\"../\")\n",
    "%pwd\n"
   ]
  },
  {
   "cell_type": "code",
   "execution_count": 2,
   "metadata": {},
   "outputs": [
    {
     "name": "stdout",
     "output_type": "stream",
     "text": [
      "Collecting dagshub\n",
      "  Using cached dagshub-0.6.2-py3-none-any.whl (261 kB)\n",
      "Requirement already satisfied: PyYAML>=5 in d:\\data science\\end to end proj\\bloodgroupclassifierbasedonfingerprint\\venv\\lib\\site-packages (from dagshub) (6.0.2)\n",
      "Requirement already satisfied: appdirs>=1.4.4 in d:\\data science\\end to end proj\\bloodgroupclassifierbasedonfingerprint\\venv\\lib\\site-packages (from dagshub) (1.4.4)\n",
      "Requirement already satisfied: click>=8.0.4 in d:\\data science\\end to end proj\\bloodgroupclassifierbasedonfingerprint\\venv\\lib\\site-packages (from dagshub) (8.2.1)\n",
      "Requirement already satisfied: httpx>=0.23.0 in d:\\data science\\end to end proj\\bloodgroupclassifierbasedonfingerprint\\venv\\lib\\site-packages (from dagshub) (0.28.1)\n",
      "Requirement already satisfied: GitPython>=3.1.29 in d:\\data science\\end to end proj\\bloodgroupclassifierbasedonfingerprint\\venv\\lib\\site-packages (from dagshub) (3.1.45)\n",
      "Requirement already satisfied: rich>=13.1.0 in d:\\data science\\end to end proj\\bloodgroupclassifierbasedonfingerprint\\venv\\lib\\site-packages (from dagshub) (14.1.0)\n",
      "Collecting dacite~=1.6.0\n",
      "  Using cached dacite-1.6.0-py3-none-any.whl (12 kB)\n",
      "Collecting tenacity>=8.2.2\n",
      "  Using cached tenacity-9.1.2-py3-none-any.whl (28 kB)\n",
      "Collecting gql[requests]\n",
      "  Using cached gql-3.5.3-py2.py3-none-any.whl (74 kB)\n",
      "Collecting dataclasses-json\n",
      "  Using cached dataclasses_json-0.6.7-py3-none-any.whl (28 kB)\n",
      "Requirement already satisfied: pandas in d:\\data science\\end to end proj\\bloodgroupclassifierbasedonfingerprint\\venv\\lib\\site-packages (from dagshub) (2.3.1)\n",
      "Collecting treelib>=1.6.4\n",
      "  Using cached treelib-1.8.0-py3-none-any.whl (30 kB)\n",
      "Collecting pathvalidate>=3.0.0\n",
      "  Using cached pathvalidate-3.3.1-py3-none-any.whl (24 kB)\n",
      "Requirement already satisfied: python-dateutil in d:\\data science\\end to end proj\\bloodgroupclassifierbasedonfingerprint\\venv\\lib\\site-packages (from dagshub) (2.9.0.post0)\n",
      "Collecting boto3\n",
      "  Downloading boto3-1.39.16-py3-none-any.whl (139 kB)\n",
      "     -------------------------------------- 139.9/139.9 kB 1.7 MB/s eta 0:00:00\n",
      "Requirement already satisfied: semver in d:\\data science\\end to end proj\\bloodgroupclassifierbasedonfingerprint\\venv\\lib\\site-packages (from dagshub) (3.0.4)\n",
      "Collecting dagshub-annotation-converter>=0.1.5\n",
      "  Using cached dagshub_annotation_converter-0.1.11-py3-none-any.whl (35 kB)\n",
      "Requirement already satisfied: colorama in d:\\data science\\end to end proj\\bloodgroupclassifierbasedonfingerprint\\venv\\lib\\site-packages (from click>=8.0.4->dagshub) (0.4.6)\n",
      "Collecting lxml\n",
      "  Using cached lxml-6.0.0-cp311-cp311-win_amd64.whl (4.0 MB)\n",
      "Requirement already satisfied: pillow in d:\\data science\\end to end proj\\bloodgroupclassifierbasedonfingerprint\\venv\\lib\\site-packages (from dagshub-annotation-converter>=0.1.5->dagshub) (11.3.0)\n",
      "Requirement already satisfied: pydantic>=2.0.0 in d:\\data science\\end to end proj\\bloodgroupclassifierbasedonfingerprint\\venv\\lib\\site-packages (from dagshub-annotation-converter>=0.1.5->dagshub) (2.11.7)\n",
      "Requirement already satisfied: typing-extensions in d:\\data science\\end to end proj\\bloodgroupclassifierbasedonfingerprint\\venv\\lib\\site-packages (from dagshub-annotation-converter>=0.1.5->dagshub) (4.14.1)\n",
      "Requirement already satisfied: gitdb<5,>=4.0.1 in d:\\data science\\end to end proj\\bloodgroupclassifierbasedonfingerprint\\venv\\lib\\site-packages (from GitPython>=3.1.29->dagshub) (4.0.12)\n",
      "Requirement already satisfied: anyio in d:\\data science\\end to end proj\\bloodgroupclassifierbasedonfingerprint\\venv\\lib\\site-packages (from httpx>=0.23.0->dagshub) (4.9.0)\n",
      "Requirement already satisfied: certifi in d:\\data science\\end to end proj\\bloodgroupclassifierbasedonfingerprint\\venv\\lib\\site-packages (from httpx>=0.23.0->dagshub) (2025.7.14)\n",
      "Requirement already satisfied: httpcore==1.* in d:\\data science\\end to end proj\\bloodgroupclassifierbasedonfingerprint\\venv\\lib\\site-packages (from httpx>=0.23.0->dagshub) (1.0.9)\n",
      "Requirement already satisfied: idna in d:\\data science\\end to end proj\\bloodgroupclassifierbasedonfingerprint\\venv\\lib\\site-packages (from httpx>=0.23.0->dagshub) (3.10)\n",
      "Requirement already satisfied: h11>=0.16 in d:\\data science\\end to end proj\\bloodgroupclassifierbasedonfingerprint\\venv\\lib\\site-packages (from httpcore==1.*->httpx>=0.23.0->dagshub) (0.16.0)\n",
      "Requirement already satisfied: markdown-it-py>=2.2.0 in d:\\data science\\end to end proj\\bloodgroupclassifierbasedonfingerprint\\venv\\lib\\site-packages (from rich>=13.1.0->dagshub) (3.0.0)\n",
      "Requirement already satisfied: pygments<3.0.0,>=2.13.0 in d:\\data science\\end to end proj\\bloodgroupclassifierbasedonfingerprint\\venv\\lib\\site-packages (from rich>=13.1.0->dagshub) (2.19.2)\n",
      "Requirement already satisfied: six>=1.13.0 in d:\\data science\\end to end proj\\bloodgroupclassifierbasedonfingerprint\\venv\\lib\\site-packages (from treelib>=1.6.4->dagshub) (1.17.0)\n",
      "Collecting botocore<1.40.0,>=1.39.16\n",
      "  Downloading botocore-1.39.16-py3-none-any.whl (13.9 MB)\n",
      "     ---------------------------------------- 13.9/13.9 MB 2.0 MB/s eta 0:00:00\n",
      "Collecting jmespath<2.0.0,>=0.7.1\n",
      "  Using cached jmespath-1.0.1-py3-none-any.whl (20 kB)\n",
      "Collecting s3transfer<0.14.0,>=0.13.0\n",
      "  Using cached s3transfer-0.13.1-py3-none-any.whl (85 kB)\n",
      "Collecting marshmallow<4.0.0,>=3.18.0\n",
      "  Using cached marshmallow-3.26.1-py3-none-any.whl (50 kB)\n",
      "Collecting typing-inspect<1,>=0.4.0\n",
      "  Using cached typing_inspect-0.9.0-py3-none-any.whl (8.8 kB)\n",
      "Collecting graphql-core<3.2.7,>=3.2\n",
      "  Using cached graphql_core-3.2.6-py3-none-any.whl (203 kB)\n",
      "Requirement already satisfied: yarl<2.0,>=1.6 in d:\\data science\\end to end proj\\bloodgroupclassifierbasedonfingerprint\\venv\\lib\\site-packages (from gql[requests]->dagshub) (1.20.1)\n",
      "Collecting backoff<3.0,>=1.11.1\n",
      "  Using cached backoff-2.2.1-py3-none-any.whl (15 kB)\n",
      "Requirement already satisfied: requests<3,>=2.26 in d:\\data science\\end to end proj\\bloodgroupclassifierbasedonfingerprint\\venv\\lib\\site-packages (from gql[requests]->dagshub) (2.32.4)\n",
      "Collecting requests-toolbelt<2,>=1.0.0\n",
      "  Using cached requests_toolbelt-1.0.0-py2.py3-none-any.whl (54 kB)\n",
      "Requirement already satisfied: numpy>=1.23.2 in d:\\data science\\end to end proj\\bloodgroupclassifierbasedonfingerprint\\venv\\lib\\site-packages (from pandas->dagshub) (1.23.5)\n",
      "Requirement already satisfied: pytz>=2020.1 in d:\\data science\\end to end proj\\bloodgroupclassifierbasedonfingerprint\\venv\\lib\\site-packages (from pandas->dagshub) (2022.7.1)\n",
      "Requirement already satisfied: tzdata>=2022.7 in d:\\data science\\end to end proj\\bloodgroupclassifierbasedonfingerprint\\venv\\lib\\site-packages (from pandas->dagshub) (2025.2)\n",
      "Requirement already satisfied: sniffio>=1.1 in d:\\data science\\end to end proj\\bloodgroupclassifierbasedonfingerprint\\venv\\lib\\site-packages (from anyio->httpx>=0.23.0->dagshub) (1.3.1)\n",
      "Requirement already satisfied: urllib3!=2.2.0,<3,>=1.25.4 in d:\\data science\\end to end proj\\bloodgroupclassifierbasedonfingerprint\\venv\\lib\\site-packages (from botocore<1.40.0,>=1.39.16->boto3->dagshub) (2.5.0)\n",
      "Requirement already satisfied: smmap<6,>=3.0.1 in d:\\data science\\end to end proj\\bloodgroupclassifierbasedonfingerprint\\venv\\lib\\site-packages (from gitdb<5,>=4.0.1->GitPython>=3.1.29->dagshub) (5.0.2)\n",
      "Requirement already satisfied: mdurl~=0.1 in d:\\data science\\end to end proj\\bloodgroupclassifierbasedonfingerprint\\venv\\lib\\site-packages (from markdown-it-py>=2.2.0->rich>=13.1.0->dagshub) (0.1.2)\n",
      "Requirement already satisfied: packaging>=17.0 in d:\\data science\\end to end proj\\bloodgroupclassifierbasedonfingerprint\\venv\\lib\\site-packages (from marshmallow<4.0.0,>=3.18.0->dataclasses-json->dagshub) (23.2)\n",
      "Requirement already satisfied: annotated-types>=0.6.0 in d:\\data science\\end to end proj\\bloodgroupclassifierbasedonfingerprint\\venv\\lib\\site-packages (from pydantic>=2.0.0->dagshub-annotation-converter>=0.1.5->dagshub) (0.7.0)\n",
      "Requirement already satisfied: pydantic-core==2.33.2 in d:\\data science\\end to end proj\\bloodgroupclassifierbasedonfingerprint\\venv\\lib\\site-packages (from pydantic>=2.0.0->dagshub-annotation-converter>=0.1.5->dagshub) (2.33.2)\n",
      "Requirement already satisfied: typing-inspection>=0.4.0 in d:\\data science\\end to end proj\\bloodgroupclassifierbasedonfingerprint\\venv\\lib\\site-packages (from pydantic>=2.0.0->dagshub-annotation-converter>=0.1.5->dagshub) (0.4.1)\n",
      "Requirement already satisfied: charset_normalizer<4,>=2 in d:\\data science\\end to end proj\\bloodgroupclassifierbasedonfingerprint\\venv\\lib\\site-packages (from requests<3,>=2.26->gql[requests]->dagshub) (3.4.2)\n",
      "Collecting mypy-extensions>=0.3.0\n",
      "  Using cached mypy_extensions-1.1.0-py3-none-any.whl (5.0 kB)\n",
      "Requirement already satisfied: multidict>=4.0 in d:\\data science\\end to end proj\\bloodgroupclassifierbasedonfingerprint\\venv\\lib\\site-packages (from yarl<2.0,>=1.6->gql[requests]->dagshub) (6.6.3)\n",
      "Requirement already satisfied: propcache>=0.2.1 in d:\\data science\\end to end proj\\bloodgroupclassifierbasedonfingerprint\\venv\\lib\\site-packages (from yarl<2.0,>=1.6->gql[requests]->dagshub) (0.3.2)\n",
      "Installing collected packages: treelib, tenacity, pathvalidate, mypy-extensions, marshmallow, lxml, jmespath, graphql-core, dacite, backoff, typing-inspect, requests-toolbelt, gql, botocore, s3transfer, dataclasses-json, dagshub-annotation-converter, boto3, dagshub\n",
      "Successfully installed backoff-2.2.1 boto3-1.39.16 botocore-1.39.16 dacite-1.6.0 dagshub-0.6.2 dagshub-annotation-converter-0.1.11 dataclasses-json-0.6.7 gql-3.5.3 graphql-core-3.2.6 jmespath-1.0.1 lxml-6.0.0 marshmallow-3.26.1 mypy-extensions-1.1.0 pathvalidate-3.3.1 requests-toolbelt-1.0.0 s3transfer-0.13.1 tenacity-9.1.2 treelib-1.8.0 typing-inspect-0.9.0\n",
      "Note: you may need to restart the kernel to use updated packages.\n"
     ]
    },
    {
     "name": "stderr",
     "output_type": "stream",
     "text": [
      "\n",
      "[notice] A new release of pip available: 22.3.1 -> 25.1.1\n",
      "[notice] To update, run: python.exe -m pip install --upgrade pip\n"
     ]
    },
    {
     "data": {
      "text/html": [
       "<pre style=\"white-space:pre;overflow-x:auto;line-height:normal;font-family:Menlo,'DejaVu Sans Mono',consolas,'Courier New',monospace\">                                       <span style=\"font-weight: bold\">❗❗❗ AUTHORIZATION REQUIRED ❗❗❗</span>                                        \n",
       "</pre>\n"
      ],
      "text/plain": [
       "                                       \u001b[1m❗❗❗ AUTHORIZATION REQUIRED ❗❗❗\u001b[0m                                        \n"
      ]
     },
     "metadata": {},
     "output_type": "display_data"
    },
    {
     "name": "stdout",
     "output_type": "stream",
     "text": [
      "\n",
      "\n",
      "Open the following link in your browser to authorize the client:\n",
      "https://dagshub.com/login/oauth/authorize?state=c01f3979-7d79-49b1-9440-397d6459d8c0&client_id=32b60ba385aa7cecf24046d8195a71c07dd345d9657977863b52e7748e0f0f28&middleman_request_id=21acd403ce3cfa154b3b0379998aa18323b367df808195f8bb531a60a1ffcefe\n",
      "\n",
      "\n"
     ]
    },
    {
     "data": {
      "text/html": [
       "<pre style=\"white-space:pre;overflow-x:auto;line-height:normal;font-family:Menlo,'DejaVu Sans Mono',consolas,'Courier New',monospace\">d:\\Data Science\\END to END Proj\\BloodGroupClassifierBasedonFingerPrint\\venv\\Lib\\site-packages\\rich\\live.py:256: \n",
       "UserWarning: install \"ipywidgets\" for Jupyter support\n",
       "  warnings.warn('install \"ipywidgets\" for Jupyter support')\n",
       "</pre>\n"
      ],
      "text/plain": [
       "d:\\Data Science\\END to END Proj\\BloodGroupClassifierBasedonFingerPrint\\venv\\Lib\\site-packages\\rich\\live.py:256: \n",
       "UserWarning: install \"ipywidgets\" for Jupyter support\n",
       "  warnings.warn('install \"ipywidgets\" for Jupyter support')\n"
      ]
     },
     "metadata": {},
     "output_type": "display_data"
    },
    {
     "data": {
      "text/html": [
       "<pre style=\"white-space:pre;overflow-x:auto;line-height:normal;font-family:Menlo,'DejaVu Sans Mono',consolas,'Courier New',monospace\"></pre>\n"
      ],
      "text/plain": []
     },
     "metadata": {},
     "output_type": "display_data"
    },
    {
     "data": {
      "text/html": [
       "<pre style=\"white-space:pre;overflow-x:auto;line-height:normal;font-family:Menlo,'DejaVu Sans Mono',consolas,'Courier New',monospace\">Accessing as gowtham-dd\n",
       "</pre>\n"
      ],
      "text/plain": [
       "Accessing as gowtham-dd\n"
      ]
     },
     "metadata": {},
     "output_type": "display_data"
    },
    {
     "data": {
      "text/html": [
       "<pre style=\"white-space:pre;overflow-x:auto;line-height:normal;font-family:Menlo,'DejaVu Sans Mono',consolas,'Courier New',monospace\">Initialized MLflow to track repo <span style=\"color: #008000; text-decoration-color: #008000\">\"gowtham-dd/BloodGroupClassifierBasedonFingerPrint\"</span>\n",
       "</pre>\n"
      ],
      "text/plain": [
       "Initialized MLflow to track repo \u001b[32m\"gowtham-dd/BloodGroupClassifierBasedonFingerPrint\"\u001b[0m\n"
      ]
     },
     "metadata": {},
     "output_type": "display_data"
    },
    {
     "data": {
      "text/html": [
       "<pre style=\"white-space:pre;overflow-x:auto;line-height:normal;font-family:Menlo,'DejaVu Sans Mono',consolas,'Courier New',monospace\">Repository gowtham-dd/BloodGroupClassifierBasedonFingerPrint initialized!\n",
       "</pre>\n"
      ],
      "text/plain": [
       "Repository gowtham-dd/BloodGroupClassifierBasedonFingerPrint initialized!\n"
      ]
     },
     "metadata": {},
     "output_type": "display_data"
    }
   ],
   "source": [
    "%pip install dagshub\n",
    "import dagshub\n",
    "dagshub.init(repo_owner='gowtham-dd', repo_name='BloodGroupClassifierBasedonFingerPrint', mlflow=True)\n",
    "\n",
    "import mlflow\n",
    "with mlflow.start_run():\n",
    "  mlflow.log_param('parameter name', 'value')\n",
    "  mlflow.log_metric('metric name', 1)"
   ]
  },
  {
   "cell_type": "code",
   "execution_count": 3,
   "metadata": {},
   "outputs": [],
   "source": [
    "from dataclasses import dataclass\n",
    "from pathlib import Path\n",
    "\n",
    "@dataclass(frozen=True)\n",
    "class ModelEvaluationConfig:\n",
    "    root_dir: Path\n",
    "    test_data_path: Path  # This is the folder containing image subdirectories\n",
    "    model_path: Path\n",
    "    metric_file_name: Path\n",
    "    mlflow_uri: str\n",
    "    batch_size: int\n",
    "    target_metric: str\n",
    "    all_params: dict\n"
   ]
  },
  {
   "cell_type": "code",
   "execution_count": 4,
   "metadata": {},
   "outputs": [],
   "source": [
    "from src.BloodGroupClassifier.constant import *\n",
    "from src.BloodGroupClassifier.utils.common import read_yaml,create_directories \n",
    "from BloodGroupClassifier.entity.config_entity import DataPreprocessingConfig"
   ]
  },
  {
   "cell_type": "code",
   "execution_count": 5,
   "metadata": {},
   "outputs": [],
   "source": [
    "class ConfigurationManager:\n",
    "    def __init__(\n",
    "        self,\n",
    "        config_filepath = CONFIG_FILE_PATH,\n",
    "        params_filepath = PARAMS_FILE_PATH,\n",
    "):\n",
    "\n",
    "        self.config = read_yaml(config_filepath)\n",
    "        self.params = read_yaml(params_filepath)\n",
    "\n",
    "        create_directories([self.config.artifacts_root])\n",
    "\n",
    "    def get_model_evaluation_config(self) -> ModelEvaluationConfig:\n",
    "        config = self.config.model_evaluation\n",
    "        params = self.params.model_evaluation\n",
    "\n",
    "        create_directories([config.root_dir])\n",
    "\n",
    "        return ModelEvaluationConfig(\n",
    "        root_dir=Path(config.root_dir),\n",
    "        test_data_path=Path(config.test_data_path),\n",
    "        model_path=Path(config.model_path),\n",
    "        metric_file_name=Path(config.metric_file_name),\n",
    "        mlflow_uri=config.mlflow_uri,\n",
    "        batch_size=params.batch_size,\n",
    "        target_metric=params.target_metric,\n",
    "        all_params=params\n",
    "        )\n"
   ]
  },
  {
   "cell_type": "code",
   "execution_count": 6,
   "metadata": {},
   "outputs": [],
   "source": [
    "import tensorflow as tf\n",
    "import mlflow\n",
    "from urllib.parse import urlparse\n",
    "from tensorflow.keras.preprocessing.image import ImageDataGenerator\n",
    "from BloodGroupClassifier.utils.common import save_json\n",
    "from BloodGroupClassifier import logger\n",
    "\n",
    "class ModelEvaluation:\n",
    "    def __init__(self, config):\n",
    "        self.config = config\n",
    "        self.image_size = (64, 64)\n",
    "\n",
    "    def _load_validation_generator(self):\n",
    "        datagen = ImageDataGenerator(rescale=1./255, validation_split=0.2)\n",
    "        val_gen = datagen.flow_from_directory(\n",
    "            self.config.test_data_path,\n",
    "            target_size=self.image_size,\n",
    "            batch_size=self.config.batch_size,\n",
    "            class_mode='categorical',\n",
    "            subset='validation',\n",
    "            shuffle=False\n",
    "        )\n",
    "        return val_gen\n",
    "\n",
    "    def _load_model(self):\n",
    "        return tf.keras.models.load_model(self.config.model_path)\n",
    "\n",
    "    def evaluate_model(self):\n",
    "        model = self._load_model()\n",
    "        val_gen = self._load_validation_generator()\n",
    "\n",
    "        loss, accuracy = model.evaluate(val_gen)\n",
    "\n",
    "        metrics = {\n",
    "            \"loss\": float(loss),\n",
    "            \"accuracy\": float(accuracy)\n",
    "        }\n",
    "\n",
    "        save_json(self.config.metric_file_name, metrics)\n",
    "        logger.info(f\"Evaluation metrics: {metrics}\")\n",
    "        return model, metrics\n",
    "\n",
    "    def log_into_mlflow(self):\n",
    "        mlflow.set_tracking_uri(self.config.mlflow_uri)\n",
    "        tracking_url_type_store = urlparse(mlflow.get_tracking_uri()).scheme\n",
    "\n",
    "        try:\n",
    "            with mlflow.start_run():\n",
    "                model, metrics = self.evaluate_model()\n",
    "\n",
    "                # Log hyperparameters\n",
    "                mlflow.log_params(self.config.all_params)\n",
    "\n",
    "                # Log metrics\n",
    "                mlflow.log_metrics(metrics)\n",
    "\n",
    "                # Log model\n",
    "                if tracking_url_type_store != \"file\":\n",
    "                    mlflow.tensorflow.log_model(\n",
    "                        model,\n",
    "                        artifact_path=\"cnn_model\",\n",
    "                        registered_model_name=\"Fingerprint_CNN_Model\"\n",
    "                    )\n",
    "                else:\n",
    "                    mlflow.log_artifacts(str(self.config.model_path), artifact_path=\"cnn_model\")\n",
    "\n",
    "                logger.info(\"Model evaluation and MLflow logging completed.\")\n",
    "\n",
    "        except Exception as e:\n",
    "            logger.error(f\"MLflow logging failed: {e}\")\n",
    "            if mlflow.active_run():\n",
    "                mlflow.end_run(status=\"FAILED\")\n",
    "            raise\n"
   ]
  },
  {
   "cell_type": "code",
   "execution_count": 9,
   "metadata": {},
   "outputs": [
    {
     "name": "stdout",
     "output_type": "stream",
     "text": [
      "[2025-07-30 11:55:38,553: INFO: common: yaml file: config\\config.yaml loaded successfully]\n",
      "[2025-07-30 11:55:38,559: INFO: common: yaml file: params.yaml loaded successfully]\n",
      "[2025-07-30 11:55:38,567: INFO: common: created directory at: artifacts]\n",
      "[2025-07-30 11:55:38,570: INFO: common: created directory at: artifacts/model_evaluation]\n"
     ]
    },
    {
     "name": "stdout",
     "output_type": "stream",
     "text": [
      "Found 1197 images belonging to 8 classes.\n",
      "38/38 [==============================] - 27s 706ms/step - loss: 1.2690 - accuracy: 0.8505\n",
      "[2025-07-30 11:56:08,288: INFO: common: json file saved at: artifacts\\model_evaluation\\metrics.json]\n",
      "[2025-07-30 11:56:08,290: INFO: 2314356131: Evaluation metrics: {'loss': 1.269004464149475, 'accuracy': 0.8504594564437866}]\n"
     ]
    },
    {
     "name": "stderr",
     "output_type": "stream",
     "text": [
      "2025/07/30 11:56:09 WARNING mlflow.tensorflow: You are saving a TensorFlow Core model or Keras model without a signature. Inference with mlflow.pyfunc.spark_udf() will not work unless the model's pyfunc representation accepts pandas DataFrames as inference inputs.\n"
     ]
    },
    {
     "name": "stdout",
     "output_type": "stream",
     "text": [
      "[2025-07-30 11:56:11,620: WARNING: save: Found untraced functions such as _jit_compiled_convolution_op, _jit_compiled_convolution_op, _jit_compiled_convolution_op, _jit_compiled_convolution_op, _update_step_xla while saving (showing 5 of 5). These functions will not be directly callable after loading.]\n",
      "[2025-07-30 11:56:12,128: INFO: builder_impl: Assets written to: C:\\Users\\dell\\AppData\\Local\\Temp\\tmp0ih_g_ow\\model\\data\\model\\assets]\n"
     ]
    },
    {
     "name": "stderr",
     "output_type": "stream",
     "text": [
      "d:\\Data Science\\END to END Proj\\BloodGroupClassifierBasedonFingerPrint\\venv\\Lib\\site-packages\\_distutils_hack\\__init__.py:33: UserWarning: Setuptools is replacing distutils.\n",
      "  warnings.warn(\"Setuptools is replacing distutils.\")\n",
      "Successfully registered model 'Fingerprint_CNN_Model'.\n",
      "2025/07/30 11:57:11 INFO mlflow.tracking._model_registry.client: Waiting up to 300 seconds for model version to finish creation.                     Model name: Fingerprint_CNN_Model, version 1\n"
     ]
    },
    {
     "name": "stdout",
     "output_type": "stream",
     "text": [
      "[2025-07-30 11:57:11,856: INFO: 2314356131: Model evaluation and MLflow logging completed.]\n"
     ]
    },
    {
     "name": "stderr",
     "output_type": "stream",
     "text": [
      "Created version '1' of model 'Fingerprint_CNN_Model'.\n"
     ]
    }
   ],
   "source": [
    "\n",
    "from BloodGroupClassifier import logger\n",
    "\n",
    "try:\n",
    "    config = ConfigurationManager()\n",
    "    eval_config = config.get_model_evaluation_config()\n",
    "    evaluator = ModelEvaluation(config=eval_config)\n",
    "    evaluator.log_into_mlflow()\n",
    "except Exception as e:\n",
    "    logger.exception(e)\n",
    "    raise e\n"
   ]
  }
 ],
 "metadata": {
  "kernelspec": {
   "display_name": "venv",
   "language": "python",
   "name": "python3"
  },
  "language_info": {
   "codemirror_mode": {
    "name": "ipython",
    "version": 3
   },
   "file_extension": ".py",
   "mimetype": "text/x-python",
   "name": "python",
   "nbconvert_exporter": "python",
   "pygments_lexer": "ipython3",
   "version": "3.11.1"
  }
 },
 "nbformat": 4,
 "nbformat_minor": 2
}
