{
 "cells": [
  {
   "cell_type": "code",
   "execution_count": 1,
   "metadata": {},
   "outputs": [
    {
     "data": {
      "text/plain": [
       "'d:\\\\Data Science\\\\END to END Proj\\\\BloodGroupClassifierBasedonFingerPrint'"
      ]
     },
     "execution_count": 1,
     "metadata": {},
     "output_type": "execute_result"
    }
   ],
   "source": [
    "import os\n",
    "%pwd\n",
    "os.chdir(\"../\")\n",
    "%pwd\n"
   ]
  },
  {
   "cell_type": "code",
   "execution_count": 2,
   "metadata": {},
   "outputs": [],
   "source": [
    "from dataclasses import dataclass\n",
    "from pathlib import Path\n",
    "\n",
    "@dataclass(frozen=True)\n",
    "class DataPreprocessingConfig:\n",
    "    data_path: Path\n",
    "    img_height: int\n",
    "    img_width: int\n",
    "    batch_size: int\n",
    "    validation_split: float"
   ]
  },
  {
   "cell_type": "code",
   "execution_count": 3,
   "metadata": {},
   "outputs": [],
   "source": [
    "from src.BloodGroupClassifier.constant import *\n",
    "from src.BloodGroupClassifier.utils.common import read_yaml,create_directories "
   ]
  },
  {
   "cell_type": "code",
   "execution_count": 4,
   "metadata": {},
   "outputs": [],
   "source": [
    "class ConfigurationManager:\n",
    "    def __init__(\n",
    "        self,\n",
    "        config_filepath = CONFIG_FILE_PATH,\n",
    "        params_filepath = PARAMS_FILE_PATH,\n",
    "):\n",
    "\n",
    "        self.config = read_yaml(config_filepath)\n",
    "        self.params = read_yaml(params_filepath)\n",
    "\n",
    "        create_directories([self.config.artifacts_root])\n",
    "\n",
    "\n",
    "    \n",
    "    def get_data_preprocessing_config(self) -> DataPreprocessingConfig:\n",
    "        params = self.params\n",
    "    \n",
    "        return DataPreprocessingConfig(\n",
    "        data_path=Path(\"artifacts/data_ingestion/\"),  # Hardcoded to match original\n",
    "        img_height=params.IMG_HEIGHT,\n",
    "        img_width=params.IMG_WIDTH,\n",
    "        batch_size=params.BATCH_SIZE,\n",
    "        validation_split=params.VALIDATION_SPLIT\n",
    "        )"
   ]
  },
  {
   "cell_type": "code",
   "execution_count": 5,
   "metadata": {},
   "outputs": [],
   "source": [
    "import tensorflow as tf\n",
    "from tensorflow.keras.preprocessing.image import ImageDataGenerator\n",
    "from BloodGroupClassifier import logger\n",
    "\n",
    "class DataPreprocessing:\n",
    "    def __init__(self, config: DataPreprocessingConfig):\n",
    "        self.config = config\n",
    "\n",
    "    def get_data_generators(self):\n",
    "        try:\n",
    "            # IDENTICAL to original preprocessing\n",
    "            train_datagen = ImageDataGenerator(\n",
    "                rescale=1./255,\n",
    "                validation_split=self.config.validation_split\n",
    "            )\n",
    "\n",
    "            train_generator = train_datagen.flow_from_directory(\n",
    "                str(self.config.data_path),  # Convert Path to string\n",
    "                target_size=(self.config.img_height, self.config.img_width),\n",
    "                batch_size=self.config.batch_size,\n",
    "                class_mode='categorical',\n",
    "                subset='training'\n",
    "            )\n",
    "\n",
    "            validation_generator = train_datagen.flow_from_directory(\n",
    "                str(self.config.data_path),\n",
    "                target_size=(self.config.img_height, self.config.img_width),\n",
    "                batch_size=self.config.batch_size,\n",
    "                class_mode='categorical',\n",
    "                subset='validation'\n",
    "            )\n",
    "\n",
    "            logger.info(\"Created generators with:\")\n",
    "            logger.info(f\"  - Image size: {self.config.img_height}x{self.config.img_width}\")\n",
    "            logger.info(f\"  - Batch size: {self.config.batch_size}\")\n",
    "            logger.info(f\"  - Validation split: {self.config.validation_split}\")\n",
    "\n",
    "            return train_generator, validation_generator\n",
    "\n",
    "        except Exception as e:\n",
    "            logger.error(f\"Error in preprocessing: {e}\")\n",
    "            raise e"
   ]
  },
  {
   "cell_type": "code",
   "execution_count": 6,
   "metadata": {},
   "outputs": [
    {
     "name": "stdout",
     "output_type": "stream",
     "text": [
      "[2025-07-29 21:56:43,590: INFO: common: yaml file: config\\config.yaml loaded successfully]\n",
      "[2025-07-29 21:56:43,626: INFO: common: yaml file: params.yaml loaded successfully]\n",
      "[2025-07-29 21:56:43,629: INFO: common: created directory at: artifacts]\n",
      "Found 4803 images belonging to 8 classes.\n",
      "Found 1197 images belonging to 8 classes.\n",
      "[2025-07-29 21:56:44,135: INFO: 3991443896: Created generators with:]\n",
      "[2025-07-29 21:56:44,135: INFO: 3991443896:   - Image size: 64x64]\n",
      "[2025-07-29 21:56:44,135: INFO: 3991443896:   - Batch size: 32]\n",
      "[2025-07-29 21:56:44,135: INFO: 3991443896:   - Validation split: 0.2]\n"
     ]
    }
   ],
   "source": [
    "# After data ingestion\n",
    "\n",
    "try:\n",
    "    config = ConfigurationManager()\n",
    "\n",
    "    data_preprocessing_config = config.get_data_preprocessing_config()\n",
    "    data_preprocessing = DataPreprocessing(config=data_preprocessing_config)\n",
    "    train_generator, validation_generator = data_preprocessing.get_data_generators()\n",
    "except Exception as e:\n",
    "    raise e\n"
   ]
  }
 ],
 "metadata": {
  "kernelspec": {
   "display_name": "venv",
   "language": "python",
   "name": "python3"
  },
  "language_info": {
   "codemirror_mode": {
    "name": "ipython",
    "version": 3
   },
   "file_extension": ".py",
   "mimetype": "text/x-python",
   "name": "python",
   "nbconvert_exporter": "python",
   "pygments_lexer": "ipython3",
   "version": "3.11.1"
  }
 },
 "nbformat": 4,
 "nbformat_minor": 2
}
