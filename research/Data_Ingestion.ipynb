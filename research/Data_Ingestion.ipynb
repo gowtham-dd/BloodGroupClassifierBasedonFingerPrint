{
 "cells": [
  {
   "cell_type": "code",
   "execution_count": 1,
   "metadata": {},
   "outputs": [
    {
     "data": {
      "text/plain": [
       "'d:\\\\Data Science\\\\END to END Proj\\\\BloodGroupClassifierBasedonFingerPrint'"
      ]
     },
     "execution_count": 1,
     "metadata": {},
     "output_type": "execute_result"
    }
   ],
   "source": [
    "import os\n",
    "%pwd\n",
    "os.chdir(\"../\")\n",
    "%pwd\n"
   ]
  },
  {
   "cell_type": "code",
   "execution_count": 2,
   "metadata": {},
   "outputs": [],
   "source": [
    "## ENTITY\n",
    "from dataclasses import dataclass\n",
    "from pathlib import Path\n",
    "\n",
    "@dataclass(frozen=True)\n",
    "class DataIngestionConfig:\n",
    "    root_dir:Path\n",
    "    source_URL:str\n",
    "    local_data_file:Path\n",
    "    unzip_dir:Path"
   ]
  },
  {
   "cell_type": "code",
   "execution_count": 3,
   "metadata": {},
   "outputs": [],
   "source": [
    "from src.BloodGroupClassifier.constant import *\n",
    "from src.BloodGroupClassifier.utils.common import read_yaml,create_directories "
   ]
  },
  {
   "cell_type": "code",
   "execution_count": 4,
   "metadata": {},
   "outputs": [],
   "source": [
    "class ConfigurationManager:\n",
    "    def __init__(\n",
    "        self,\n",
    "        config_filepath = CONFIG_FILE_PATH,\n",
    "        params_filepath = PARAMS_FILE_PATH,\n",
    "):\n",
    "\n",
    "        self.config = read_yaml(config_filepath)\n",
    "        self.params = read_yaml(params_filepath)\n",
    "\n",
    "        create_directories([self.config.artifacts_root])\n",
    "\n",
    "\n",
    "    \n",
    "    def get_data_ingestion_config(self) -> DataIngestionConfig:\n",
    "        config = self.config.data_ingestion\n",
    "\n",
    "        create_directories([config.root_dir])\n",
    "\n",
    "        data_ingestion_config = DataIngestionConfig(\n",
    "            root_dir=config.root_dir,\n",
    "            source_URL=config.source_URL,\n",
    "            local_data_file=config.local_data_file,\n",
    "            unzip_dir=config.unzip_dir \n",
    "        )\n",
    "\n",
    "        return data_ingestion_config"
   ]
  },
  {
   "cell_type": "code",
   "execution_count": 5,
   "metadata": {},
   "outputs": [],
   "source": [
    "import os\n",
    "import urllib.request as request\n",
    "import zipfile\n",
    "import pandas as pd\n",
    "from BloodGroupClassifier import logger\n",
    "from BloodGroupClassifier.utils.common import get_size"
   ]
  },
  {
   "cell_type": "code",
   "execution_count": 12,
   "metadata": {},
   "outputs": [],
   "source": [
    "import os\n",
    "import zipfile\n",
    "from pathlib import Path\n",
    "from urllib import request\n",
    "\n",
    "class DataIngestion:\n",
    "    def __init__(self, config: DataIngestionConfig):\n",
    "        self.config = config\n",
    "\n",
    "    def download_file(self) -> bool:\n",
    "        \"\"\"Downloads the file from source_URL to local_data_file if not present.\n",
    "        Returns True if downloaded, False if already exists.\"\"\"\n",
    "        os.makedirs(os.path.dirname(self.config.local_data_file), exist_ok=True)\n",
    "        \n",
    "        if not os.path.exists(self.config.local_data_file):\n",
    "            logger.info(f\"Downloading data from {self.config.source_URL}...\")\n",
    "            filename, headers = request.urlretrieve(\n",
    "                url=self.config.source_URL,\n",
    "                filename=self.config.local_data_file\n",
    "            )\n",
    "            logger.info(f\"Download completed to: {filename}\")\n",
    "            logger.debug(f\"Download headers: {headers}\")\n",
    "            return True\n",
    "        else:\n",
    "            logger.info(f\"File already exists at {self.config.local_data_file}, size: {get_size(Path(self.config.local_data_file))}\")\n",
    "            return False\n",
    "\n",
    "    def extract_zip_file(self):\n",
    "        \"\"\"Extracts the downloaded zip file to unzip_dir\"\"\"\n",
    "        logger.info(f\"Extracting zip file from {self.config.local_data_file} to {self.config.unzip_dir}\")\n",
    "        os.makedirs(self.config.unzip_dir, exist_ok=True)\n",
    "\n",
    "        with zipfile.ZipFile(self.config.local_data_file, 'r') as zip_ref:\n",
    "            zip_ref.extractall(self.config.unzip_dir)\n",
    "\n",
    "        logger.info(f\"Successfully extracted to {self.config.unzip_dir}\")\n",
    "\n",
    "    def run(self):\n",
    "        \"\"\"Skip entire ingestion if zip file already exists\"\"\"\n",
    "        if not os.path.exists(self.config.local_data_file):\n",
    "            downloaded = self.download_file()\n",
    "            if downloaded:\n",
    "                self.extract_zip_file()\n",
    "        else:\n",
    "            logger.info(f\"File already exists at {self.config.local_data_file}, skipping download and extraction.\")\n"
   ]
  },
  {
   "cell_type": "code",
   "execution_count": 13,
   "metadata": {},
   "outputs": [
    {
     "name": "stdout",
     "output_type": "stream",
     "text": [
      "[2025-07-29 21:35:05,155: INFO: common: yaml file: config\\config.yaml loaded successfully]\n",
      "[2025-07-29 21:35:05,156: INFO: common: yaml file: params.yaml loaded successfully]\n",
      "[2025-07-29 21:35:05,156: INFO: common: created directory at: artifacts]\n",
      "[2025-07-29 21:35:05,156: INFO: common: created directory at: artifacts/data_ingestion]\n",
      "[2025-07-29 21:35:05,169: INFO: 74520977: File already exists at artifacts/data_ingestion/FingerPrint.zip. Skipping download and extraction.]\n"
     ]
    }
   ],
   "source": [
    "try:\n",
    "    config = ConfigurationManager()\n",
    "    data_ingestion_config = config.get_data_ingestion_config()\n",
    "    data_ingestion = DataIngestion(config=data_ingestion_config)\n",
    "\n",
    "    # Only download and extract if file doesn't exist\n",
    "    if not os.path.exists(data_ingestion_config.local_data_file):\n",
    "        data_ingestion.download_file()\n",
    "        data_ingestion.extract_zip_file()\n",
    "    else:\n",
    "        logger.info(\n",
    "            f\"File already exists at {data_ingestion_config.local_data_file}. Skipping download and extraction.\"\n",
    "        )\n",
    "except Exception as e:\n",
    "    raise e\n"
   ]
  }
 ],
 "metadata": {
  "kernelspec": {
   "display_name": "venv",
   "language": "python",
   "name": "python3"
  },
  "language_info": {
   "codemirror_mode": {
    "name": "ipython",
    "version": 3
   },
   "file_extension": ".py",
   "mimetype": "text/x-python",
   "name": "python",
   "nbconvert_exporter": "python",
   "pygments_lexer": "ipython3",
   "version": "3.11.1"
  }
 },
 "nbformat": 4,
 "nbformat_minor": 2
}
